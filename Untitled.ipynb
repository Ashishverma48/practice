{
 "cells": [
  {
   "cell_type": "code",
   "execution_count": 5,
   "id": "c677a303",
   "metadata": {},
   "outputs": [
    {
     "name": "stdout",
     "output_type": "stream",
     "text": [
      "Enter The Salary - 1000\n",
      "Enter The Year Of Service - 11\n",
      "The bonus is  100.0\n",
      "1100.0\n"
     ]
    }
   ],
   "source": [
    "salary = int(input(\"Enter The Salary - \"))\n",
    "year_of_service = int(input(\"Enter The Year Of Service - \"))\n",
    "if year_of_service>10:\n",
    "    bonus = (salary*10)/100\n",
    "    print(\"The bonus is \",bonus)\n",
    "    net_salary = salary+bonus\n",
    "    print(net_salary)\n",
    "elif year_of_service>=6 and year_of_service<=10:\n",
    "    bonus = (salary*8)/100\n",
    "    print(\"The bonus is - \",bonus)\n",
    "    net_salary = salary + bonus\n",
    "    print(net_salary)\n",
    "elif year_of_service <6:\n",
    "    bonus = (salary*5)/100\n",
    "    print(bonus)\n",
    "    net_salary = salary + bonus\n",
    "    print(net_salary)\n",
    "else:\n",
    "    print(\"No Bonus\")"
   ]
  },
  {
   "cell_type": "code",
   "execution_count": 12,
   "id": "01f17cf1",
   "metadata": {},
   "outputs": [
    {
     "name": "stdout",
     "output_type": "stream",
     "text": [
      "Enter The Marked Price - 8000\n",
      "Discount is -  1200.0\n",
      "Net amount is -  6800.0\n"
     ]
    }
   ],
   "source": [
    "price = int(input(\"Enter The Marked Price - \"))\n",
    "if price >10000:\n",
    "    dis = (price*20)/100\n",
    "    print(\"Discount is - \",dis)\n",
    "    net_amount = price-dis\n",
    "    print(\"Net Amount is - \",net_amount)\n",
    "elif price>7000 and price<=10000:\n",
    "    dis = (price*15)/100\n",
    "    print(\"Discount is - \",dis)\n",
    "    net_amount = price-dis\n",
    "    print(\"Net amount is - \",net_amount)\n",
    "elif price<=7000:\n",
    "    dis = (price*10)/100\n",
    "    print(\"Discount is - \",dis)\n",
    "    net_amount = price-dis\n",
    "    print(\"Net Amount is -\",net_amount)\n",
    "else:\n",
    "    print(\"No Discount\")"
   ]
  },
  {
   "cell_type": "code",
   "execution_count": 17,
   "id": "f46abefe",
   "metadata": {},
   "outputs": [
    {
     "name": "stdout",
     "output_type": "stream",
     "text": [
      "+ ADD\n",
      "- SUB\n",
      "* MUL\n",
      "/ DIV\n",
      "ENTER THE FIRST NUMBER - 111\n",
      "ENTER THE SECOND NUMBER - 222\n",
      "ENTER THE OPRATOR + - * /  ;\n",
      "WRONG OPRATOR\n"
     ]
    }
   ],
   "source": [
    "#calculator\n",
    "print('''+ ADD\n",
    "- SUB\n",
    "* MUL\n",
    "/ DIV''')\n",
    "num1 = int(input(\"ENTER THE FIRST NUMBER - \"))\n",
    "num2 = int(input(\"ENTER THE SECOND NUMBER - \"))\n",
    "oprator = input(\"ENTER THE OPRATOR + - * /  \")\n",
    "if oprator == '+':\n",
    "    print(num1+num2)\n",
    "elif oprator == '-':\n",
    "    print(num1-num2)\n",
    "elif oprator == '*':\n",
    "    print(num1*num2)\n",
    "elif oprator == '/':\n",
    "    print(num1/num2)\n",
    "else:\n",
    "    print(\"WRONG OPRATOR\")"
   ]
  },
  {
   "cell_type": "code",
   "execution_count": null,
   "id": "221defa8",
   "metadata": {},
   "outputs": [],
   "source": []
  }
 ],
 "metadata": {
  "kernelspec": {
   "display_name": "Python 3 (ipykernel)",
   "language": "python",
   "name": "python3"
  },
  "language_info": {
   "codemirror_mode": {
    "name": "ipython",
    "version": 3
   },
   "file_extension": ".py",
   "mimetype": "text/x-python",
   "name": "python",
   "nbconvert_exporter": "python",
   "pygments_lexer": "ipython3",
   "version": "3.9.13"
  }
 },
 "nbformat": 4,
 "nbformat_minor": 5
}
