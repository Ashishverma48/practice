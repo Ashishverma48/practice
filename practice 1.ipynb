{
 "cells": [
  {
   "cell_type": "code",
   "execution_count": 7,
   "id": "3c277038",
   "metadata": {},
   "outputs": [
    {
     "name": "stdout",
     "output_type": "stream",
     "text": [
      "enter the charecter - &\n",
      "38\n"
     ]
    }
   ],
   "source": [
    "# find value to ascii value\n",
    "\n",
    "chr = input(\"enter the charecter - \")\n",
    "a = ord(chr)    # use ord() to find ascii value\n",
    "print(a)  \n",
    "\n"
   ]
  },
  {
   "cell_type": "code",
   "execution_count": 21,
   "id": "a61d05fd",
   "metadata": {},
   "outputs": [
    {
     "name": "stdout",
     "output_type": "stream",
     "text": [
      "ENTER THE DECIMAL NUMBER - 456\n",
      "456  BINARY NUMBER IS  0b111001000\n"
     ]
    }
   ],
   "source": [
    "# convert decimal to binary\n",
    "\n",
    "num = int(input(\"ENTER THE DECIMAL NUMBER - \"))\n",
    "n = bin(num)   # bin() use covert in binary\n",
    "print(num, \" BINARY NUMBER IS - \",n)"
   ]
  },
  {
   "cell_type": "code",
   "execution_count": 25,
   "id": "2afde742",
   "metadata": {},
   "outputs": [
    {
     "name": "stdout",
     "output_type": "stream",
     "text": [
      "ENTER THE DECIMAL NUMBER - 8\n",
      "8  OCTAL NUMBER IS -  0o10\n"
     ]
    }
   ],
   "source": [
    "# convert decimal to octal\n",
    "\n",
    "num = int(input(\"ENTER THE DECIMAL NUMBER - \"))\n",
    "a = oct(num)  # use oct()\n",
    "print(num,\" OCTAL NUMBER IS - \",a)"
   ]
  },
  {
   "cell_type": "code",
   "execution_count": 26,
   "id": "e2ab72bd",
   "metadata": {},
   "outputs": [
    {
     "name": "stdout",
     "output_type": "stream",
     "text": [
      "ENTER THE DECIMAL NUMBER - 16\n",
      "16  HEXADECIMAL NUMBER IS -  0x10\n"
     ]
    }
   ],
   "source": [
    "# convert decimal to hexadecimal\n",
    "\n",
    "num = int(input(\"ENTER THE DECIMAL NUMBER - \"))\n",
    "a = hex(num)  #use hex()\n",
    "print(num,\" HEXADECIMAL NUMBER IS - \",a)"
   ]
  },
  {
   "cell_type": "code",
   "execution_count": 34,
   "id": "22f94e46",
   "metadata": {},
   "outputs": [
    {
     "name": "stdout",
     "output_type": "stream",
     "text": [
      "ENTER THE NUMBER 1 = 10\n",
      "ENTER THE NUMBER 2 = 3\n",
      "ENTER THE OPRATOR  =  %\n",
      "MOD  1\n"
     ]
    }
   ],
   "source": [
    "# build calculater\n",
    "\n",
    "num1 = int(input(\"ENTER THE NUMBER 1 = \"))\n",
    "num2 = int(input(\"ENTER THE NUMBER 2 = \"))\n",
    "opr = input(\"ENTER THE OPRATOR  =  \")\n",
    "if opr=='+':\n",
    "    print(\"ADD \",num1+num2)\n",
    "    \n",
    "elif opr=='-':\n",
    "    print(\"SUB \",num1-num2)\n",
    "elif opr=='*':\n",
    "    print(\"MUL \",num1*num2)\n",
    "elif opr=='/':\n",
    "    print(\"DIV \",num/num2)\n",
    "elif opr=='%':\n",
    "    print(\"MOD \",num1%num2)\n",
    "else:\n",
    "    print('INVALID OPRATOR PLEAS SELECT - + - * / %')\n",
    "    "
   ]
  },
  {
   "cell_type": "code",
   "execution_count": 37,
   "id": "d5900cc8",
   "metadata": {},
   "outputs": [
    {
     "name": "stdout",
     "output_type": "stream",
     "text": [
      "ENTER THE STRING jhghudut\n",
      "length is  8\n"
     ]
    }
   ],
   "source": [
    "# 1 FIND THE LENGTH OF STRING\n",
    "\n",
    "str = input(\"ENTER THE STRING \")\n",
    "a = len(str)\n",
    "print(\"length is \",a)"
   ]
  },
  {
   "cell_type": "code",
   "execution_count": 46,
   "id": "08f07f1b",
   "metadata": {},
   "outputs": [
    {
     "name": "stdout",
     "output_type": "stream",
     "text": [
      "ENTER THE STRING - hello python\n",
      "12\n"
     ]
    }
   ],
   "source": [
    "# 2 FIND THE LENGTH OF STRING\n",
    "\n",
    "\n",
    "str = input(\"ENTER THE STRING - \")\n",
    "count = 0\n",
    "for i in str:\n",
    "    count = count+1\n",
    "print(count)"
   ]
  },
  {
   "cell_type": "code",
   "execution_count": 60,
   "id": "c0f6313c",
   "metadata": {},
   "outputs": [
    {
     "name": "stdout",
     "output_type": "stream",
     "text": [
      "ENTER THE NUMBER - 13\n",
      "ITS A PRIME NUMBER\n"
     ]
    }
   ],
   "source": [
    "# FIND PRIME NUMBER OR COMPOSIT NUMBER\n",
    "\n",
    "num = int(input(\"ENTER THE NUMBER - \"))\n",
    "count = 0\n",
    "i=1\n",
    "while i<=num:\n",
    "    if num%i==0:\n",
    "        count=count+1\n",
    "    i=i+1\n",
    "if count==2:\n",
    "    print(\"ITS A PRIME NUMBER\")\n",
    "elif count>2:\n",
    "    print(\"ITS A COPOSIT NUMBER\")\n",
    "else:\n",
    "    print(\"THE NUMBER IS NEITHER PRIME NOR COPOSITE\")\n",
    "        \n"
   ]
  },
  {
   "cell_type": "code",
   "execution_count": 67,
   "id": "f0dcf39a",
   "metadata": {},
   "outputs": [
    {
     "name": "stdout",
     "output_type": "stream",
     "text": [
      "201\n"
     ]
    }
   ],
   "source": [
    "# FIND SUM OF LIST\n",
    "a = [12,34,34,55,66]\n",
    "sum=0\n",
    "for i in a:\n",
    "    sum=sum+i\n",
    "print(sum)"
   ]
  },
  {
   "cell_type": "code",
   "execution_count": 13,
   "id": "f4978678",
   "metadata": {},
   "outputs": [
    {
     "name": "stdout",
     "output_type": "stream",
     "text": [
      "177\n"
     ]
    }
   ],
   "source": [
    "a = [11,34,54,22,32,12,12]\n",
    "sum=0\n",
    "for i in range(0,len(a)):\n",
    "    sum=sum+a[i]\n",
    "print(sum)"
   ]
  },
  {
   "cell_type": "code",
   "execution_count": 19,
   "id": "ebc88737",
   "metadata": {},
   "outputs": [
    {
     "name": "stdout",
     "output_type": "stream",
     "text": [
      "177\n"
     ]
    }
   ],
   "source": [
    "a = [11,34,54,22,32,12,12]\n",
    "sum=0\n",
    "i=0\n",
    "while i<len(a):\n",
    "    sum=sum+a[i]\n",
    "    i=i+1\n",
    "print(sum)"
   ]
  },
  {
   "cell_type": "code",
   "execution_count": 23,
   "id": "5e6cc847",
   "metadata": {},
   "outputs": [
    {
     "name": "stdout",
     "output_type": "stream",
     "text": [
      "ENTER THE TOTAL ELEMENT YOU WANT INSIDE YOUR LIST - 3\n",
      "12\n",
      "112\n",
      "43\n",
      "[12, 112, 43]\n",
      "167\n"
     ]
    }
   ],
   "source": [
    "# user input add user\n",
    "lst = []\n",
    "n = int(input(\"ENTER THE TOTAL ELEMENT YOU WANT INSIDE YOUR LIST - \"))\n",
    "for i in range(0,n):\n",
    "    ele=int(input())\n",
    "    lst.append(ele)\n",
    "print(lst)\n",
    "sum=0\n",
    "for j in lst:\n",
    "    sum=sum+j\n",
    "print(sum)"
   ]
  },
  {
   "cell_type": "code",
   "execution_count": null,
   "id": "5e06b98a",
   "metadata": {},
   "outputs": [],
   "source": []
  }
 ],
 "metadata": {
  "kernelspec": {
   "display_name": "Python 3 (ipykernel)",
   "language": "python",
   "name": "python3"
  },
  "language_info": {
   "codemirror_mode": {
    "name": "ipython",
    "version": 3
   },
   "file_extension": ".py",
   "mimetype": "text/x-python",
   "name": "python",
   "nbconvert_exporter": "python",
   "pygments_lexer": "ipython3",
   "version": "3.9.13"
  }
 },
 "nbformat": 4,
 "nbformat_minor": 5
}
